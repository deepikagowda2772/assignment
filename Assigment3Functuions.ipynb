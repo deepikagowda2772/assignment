{
 "cells": [
  {
   "cell_type": "code",
   "execution_count": 1,
   "id": "242f5e2d",
   "metadata": {},
   "outputs": [
    {
     "name": "stdout",
     "output_type": "stream",
     "text": [
      "20\n"
     ]
    }
   ],
   "source": [
    "##Write a Python function to sum all the numbers in a list.\n",
    "\n",
    "def sum(numbers):\n",
    "    total = 0\n",
    "    for x in numbers:\n",
    "        total += x\n",
    "    return total\n",
    "print(sum((8, 2, 3, 0, 7)))"
   ]
  },
  {
   "cell_type": "code",
   "execution_count": 5,
   "id": "a2038e27",
   "metadata": {},
   "outputs": [
    {
     "name": "stdout",
     "output_type": "stream",
     "text": [
      "The original string is:  1234abcd\n",
      "The reverse string is dcba4321\n"
     ]
    }
   ],
   "source": [
    "#Write a Python program to reverse a string.\n",
    "def reverse_string(str):  \n",
    "    str1 = \"\"   \n",
    "    for i in str:  \n",
    "        str1 = i + str1  \n",
    "    return str1    \n",
    "     \n",
    "str = \"1234abcd\"\n",
    "print(\"The original string is: \",str)  \n",
    "print(\"The reverse string is\",reverse_string(str))"
   ]
  },
  {
   "cell_type": "code",
   "execution_count": 9,
   "id": "67013bbc",
   "metadata": {},
   "outputs": [
    {
     "name": "stdout",
     "output_type": "stream",
     "text": [
      "Lower case characters = 12\n",
      "Upper case characters = 3\n"
     ]
    }
   ],
   "source": [
    "#Write a Python function that accepts a string and calculate the number of upper case letters and lower case letters.\n",
    "\n",
    "\n",
    "def upperlower(string):\n",
    "    upper = 0\n",
    "    lower = 0\n",
    "    for i in range(len(string)):\n",
    "          \n",
    "        # For lower letters\n",
    "        if (ord(string[i]) >= 97 and\n",
    "            ord(string[i]) <= 122):\n",
    "            lower += 1\n",
    "  \n",
    "        # For upper letters\n",
    "        elif (ord(string[i]) >= 65 and\n",
    "              ord(string[i]) <= 90):\n",
    "            upper += 1\n",
    "  \n",
    "    print('Lower case characters = %s' %lower)\n",
    "    print('Upper case characters = %s' %upper)\n",
    "  \n",
    "string = 'The quick Brow Fox'\n",
    "upperlower(string)"
   ]
  },
  {
   "cell_type": "code",
   "execution_count": null,
   "id": "f8e455ce",
   "metadata": {},
   "outputs": [],
   "source": []
  }
 ],
 "metadata": {
  "kernelspec": {
   "display_name": "Python 3 (ipykernel)",
   "language": "python",
   "name": "python3"
  },
  "language_info": {
   "codemirror_mode": {
    "name": "ipython",
    "version": 3
   },
   "file_extension": ".py",
   "mimetype": "text/x-python",
   "name": "python",
   "nbconvert_exporter": "python",
   "pygments_lexer": "ipython3",
   "version": "3.9.7"
  }
 },
 "nbformat": 4,
 "nbformat_minor": 5
}
