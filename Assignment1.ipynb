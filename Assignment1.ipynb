{
 "cells": [
  {
   "cell_type": "code",
   "execution_count": null,
   "id": "bf1bc297",
   "metadata": {},
   "outputs": [],
   "source": [
    "##  Python program to get the Fibonacci series between 0 to 50\n",
    "\n",
    "num = int(input(\"Enter the Range Number: \"))\n",
    "n1 = 0\n",
    "n2 = 1\n",
    "print('Fibnocci series:')\n",
    "for n in range(0, num):\n",
    "    if(n <= 1):\n",
    "        next = n\n",
    "    else:\n",
    "        next=n1+n2\n",
    "        n1=n2\n",
    "        n2=next     \n",
    "        print(next)\n",
    "                "
   ]
  },
  {
   "cell_type": "code",
   "execution_count": null,
   "id": "0d0fefed",
   "metadata": {},
   "outputs": [],
   "source": [
    "#program that accepts a word from the user and reverse it.\n",
    "\n",
    "x=input('enter a word to reverse')\n",
    "print(x[::-1])"
   ]
  },
  {
   "cell_type": "code",
   "execution_count": null,
   "id": "a85aeab6",
   "metadata": {},
   "outputs": [],
   "source": [
    "#program to count the number of even and odd numbers from a series of numbers\n",
    "\n",
    "x = [1, 2, 3, 4, 5, 6, 7, 8, 9]\n",
    "count_of_even=0\n",
    "count_of_odd=0\n",
    "for number in x:\n",
    "    if number % 2 == 0:\n",
    "        count_of_even+=1       \n",
    "    else:\n",
    "        count_of_odd+=1\n",
    "print(\"number of even numbers:\", count_of_even)\n",
    "print(\"number of odd numbers:\",count_of_odd)\n",
    "        "
   ]
  },
  {
   "cell_type": "code",
   "execution_count": null,
   "id": "235ea4c1",
   "metadata": {},
   "outputs": [],
   "source": []
  }
 ],
 "metadata": {
  "kernelspec": {
   "display_name": "Python 3 (ipykernel)",
   "language": "python",
   "name": "python3"
  },
  "language_info": {
   "codemirror_mode": {
    "name": "ipython",
    "version": 3
   },
   "file_extension": ".py",
   "mimetype": "text/x-python",
   "name": "python",
   "nbconvert_exporter": "python",
   "pygments_lexer": "ipython3",
   "version": "3.9.6"
  }
 },
 "nbformat": 4,
 "nbformat_minor": 5
}
